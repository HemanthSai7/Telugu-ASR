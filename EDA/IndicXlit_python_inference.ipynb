{
  "cells": [
    {
      "cell_type": "markdown",
      "metadata": {
        "id": "LSHVk7J9jKxK"
      },
      "source": [
        "## Installing the python library, that is wrapper around IndicXlit model"
      ]
    },
    {
      "cell_type": "code",
      "execution_count": 5,
      "metadata": {
        "colab": {
          "base_uri": "https://localhost:8080/"
        },
        "id": "HMDCvP8uhNZ4",
        "outputId": "5c50f572-95f9-4cb6-c80b-96cf5235b2eb"
      },
      "outputs": [
        {
          "name": "stdout",
          "output_type": "stream",
          "text": [
            "Requirement already satisfied: ai4bharat-transliteration in /home/hemanth/anaconda3/envs/t/lib/python3.9/site-packages (1.1.3)\n",
            "Requirement already satisfied: pydload in /home/hemanth/anaconda3/envs/t/lib/python3.9/site-packages (from ai4bharat-transliteration) (1.0.9)\n",
            "Requirement already satisfied: flask in /home/hemanth/anaconda3/envs/t/lib/python3.9/site-packages (from ai4bharat-transliteration) (3.1.2)\n",
            "Requirement already satisfied: flask-cors in /home/hemanth/anaconda3/envs/t/lib/python3.9/site-packages (from ai4bharat-transliteration) (6.0.1)\n",
            "Requirement already satisfied: gevent in /home/hemanth/anaconda3/envs/t/lib/python3.9/site-packages (from ai4bharat-transliteration) (25.5.1)\n",
            "Requirement already satisfied: sacremoses in /home/hemanth/anaconda3/envs/t/lib/python3.9/site-packages (from ai4bharat-transliteration) (0.1.1)\n",
            "Requirement already satisfied: pandas in /home/hemanth/anaconda3/envs/t/lib/python3.9/site-packages (from ai4bharat-transliteration) (2.3.2)\n",
            "Requirement already satisfied: tqdm in /home/hemanth/anaconda3/envs/t/lib/python3.9/site-packages (from ai4bharat-transliteration) (4.67.1)\n",
            "Requirement already satisfied: ujson in /home/hemanth/anaconda3/envs/t/lib/python3.9/site-packages (from ai4bharat-transliteration) (5.11.0)\n",
            "Requirement already satisfied: mock in /home/hemanth/anaconda3/envs/t/lib/python3.9/site-packages (from ai4bharat-transliteration) (5.2.0)\n",
            "Requirement already satisfied: tensorboardX in /home/hemanth/anaconda3/envs/t/lib/python3.9/site-packages (from ai4bharat-transliteration) (2.6.4)\n",
            "Requirement already satisfied: pyarrow in /home/hemanth/anaconda3/envs/t/lib/python3.9/site-packages (from ai4bharat-transliteration) (21.0.0)\n",
            "Requirement already satisfied: fairseq in /home/hemanth/anaconda3/envs/t/lib/python3.9/site-packages (from ai4bharat-transliteration) (0.10.0)\n",
            "Requirement already satisfied: urduhack in /home/hemanth/anaconda3/envs/t/lib/python3.9/site-packages (from ai4bharat-transliteration) (0.1.4)\n",
            "Requirement already satisfied: indic-nlp-library in /home/hemanth/anaconda3/envs/t/lib/python3.9/site-packages (from ai4bharat-transliteration) (0.92)\n",
            "Requirement already satisfied: cffi in /home/hemanth/anaconda3/envs/t/lib/python3.9/site-packages (from fairseq->ai4bharat-transliteration) (1.17.1)\n",
            "Requirement already satisfied: cython in /home/hemanth/anaconda3/envs/t/lib/python3.9/site-packages (from fairseq->ai4bharat-transliteration) (3.1.3)\n",
            "Requirement already satisfied: dataclasses in /home/hemanth/anaconda3/envs/t/lib/python3.9/site-packages (from fairseq->ai4bharat-transliteration) (0.6)\n",
            "Requirement already satisfied: editdistance in /home/hemanth/anaconda3/envs/t/lib/python3.9/site-packages (from fairseq->ai4bharat-transliteration) (0.8.1)\n",
            "Requirement already satisfied: hydra-core in /home/hemanth/anaconda3/envs/t/lib/python3.9/site-packages (from fairseq->ai4bharat-transliteration) (1.3.2)\n",
            "Requirement already satisfied: numpy in /home/hemanth/anaconda3/envs/t/lib/python3.9/site-packages (from fairseq->ai4bharat-transliteration) (2.0.2)\n",
            "Requirement already satisfied: regex in /home/hemanth/anaconda3/envs/t/lib/python3.9/site-packages (from fairseq->ai4bharat-transliteration) (2025.7.34)\n",
            "Requirement already satisfied: sacrebleu>=1.4.12 in /home/hemanth/anaconda3/envs/t/lib/python3.9/site-packages (from fairseq->ai4bharat-transliteration) (2.5.1)\n",
            "Requirement already satisfied: torch in /home/hemanth/anaconda3/envs/t/lib/python3.9/site-packages (from fairseq->ai4bharat-transliteration) (2.8.0)\n",
            "Requirement already satisfied: portalocker in /home/hemanth/anaconda3/envs/t/lib/python3.9/site-packages (from sacrebleu>=1.4.12->fairseq->ai4bharat-transliteration) (3.2.0)\n",
            "Requirement already satisfied: tabulate>=0.8.9 in /home/hemanth/anaconda3/envs/t/lib/python3.9/site-packages (from sacrebleu>=1.4.12->fairseq->ai4bharat-transliteration) (0.9.0)\n",
            "Requirement already satisfied: colorama in /home/hemanth/anaconda3/envs/t/lib/python3.9/site-packages (from sacrebleu>=1.4.12->fairseq->ai4bharat-transliteration) (0.4.6)\n",
            "Requirement already satisfied: lxml in /home/hemanth/anaconda3/envs/t/lib/python3.9/site-packages (from sacrebleu>=1.4.12->fairseq->ai4bharat-transliteration) (6.0.1)\n",
            "Requirement already satisfied: pycparser in /home/hemanth/anaconda3/envs/t/lib/python3.9/site-packages (from cffi->fairseq->ai4bharat-transliteration) (2.22)\n",
            "Requirement already satisfied: blinker>=1.9.0 in /home/hemanth/anaconda3/envs/t/lib/python3.9/site-packages (from flask->ai4bharat-transliteration) (1.9.0)\n",
            "Requirement already satisfied: click>=8.1.3 in /home/hemanth/anaconda3/envs/t/lib/python3.9/site-packages (from flask->ai4bharat-transliteration) (8.1.8)\n",
            "Requirement already satisfied: importlib-metadata>=3.6.0 in /home/hemanth/anaconda3/envs/t/lib/python3.9/site-packages (from flask->ai4bharat-transliteration) (8.7.0)\n",
            "Requirement already satisfied: itsdangerous>=2.2.0 in /home/hemanth/anaconda3/envs/t/lib/python3.9/site-packages (from flask->ai4bharat-transliteration) (2.2.0)\n",
            "Requirement already satisfied: jinja2>=3.1.2 in /home/hemanth/anaconda3/envs/t/lib/python3.9/site-packages (from flask->ai4bharat-transliteration) (3.1.6)\n",
            "Requirement already satisfied: markupsafe>=2.1.1 in /home/hemanth/anaconda3/envs/t/lib/python3.9/site-packages (from flask->ai4bharat-transliteration) (3.0.2)\n",
            "Requirement already satisfied: werkzeug>=3.1.0 in /home/hemanth/anaconda3/envs/t/lib/python3.9/site-packages (from flask->ai4bharat-transliteration) (3.1.3)\n",
            "Requirement already satisfied: zipp>=3.20 in /home/hemanth/anaconda3/envs/t/lib/python3.9/site-packages (from importlib-metadata>=3.6.0->flask->ai4bharat-transliteration) (3.23.0)\n",
            "Requirement already satisfied: greenlet>=3.2.2 in /home/hemanth/anaconda3/envs/t/lib/python3.9/site-packages (from gevent->ai4bharat-transliteration) (3.2.4)\n",
            "Requirement already satisfied: zope.event in /home/hemanth/anaconda3/envs/t/lib/python3.9/site-packages (from gevent->ai4bharat-transliteration) (5.1.1)\n",
            "Requirement already satisfied: zope.interface in /home/hemanth/anaconda3/envs/t/lib/python3.9/site-packages (from gevent->ai4bharat-transliteration) (7.2)\n",
            "Requirement already satisfied: omegaconf<2.4,>=2.2 in /home/hemanth/anaconda3/envs/t/lib/python3.9/site-packages (from hydra-core->fairseq->ai4bharat-transliteration) (2.3.0)\n",
            "Requirement already satisfied: antlr4-python3-runtime==4.9.* in /home/hemanth/anaconda3/envs/t/lib/python3.9/site-packages (from hydra-core->fairseq->ai4bharat-transliteration) (4.9.3)\n",
            "Requirement already satisfied: packaging in /home/hemanth/anaconda3/envs/t/lib/python3.9/site-packages (from hydra-core->fairseq->ai4bharat-transliteration) (25.0)\n",
            "Requirement already satisfied: PyYAML>=5.1.0 in /home/hemanth/anaconda3/envs/t/lib/python3.9/site-packages (from omegaconf<2.4,>=2.2->hydra-core->fairseq->ai4bharat-transliteration) (6.0.2)\n",
            "Requirement already satisfied: sphinx-argparse in /home/hemanth/anaconda3/envs/t/lib/python3.9/site-packages (from indic-nlp-library->ai4bharat-transliteration) (0.4.0)\n",
            "Requirement already satisfied: sphinx-rtd-theme in /home/hemanth/anaconda3/envs/t/lib/python3.9/site-packages (from indic-nlp-library->ai4bharat-transliteration) (3.0.2)\n",
            "Requirement already satisfied: morfessor in /home/hemanth/anaconda3/envs/t/lib/python3.9/site-packages (from indic-nlp-library->ai4bharat-transliteration) (2.0.6)\n",
            "Requirement already satisfied: python-dateutil>=2.8.2 in /home/hemanth/anaconda3/envs/t/lib/python3.9/site-packages (from pandas->ai4bharat-transliteration) (2.9.0.post0)\n",
            "Requirement already satisfied: pytz>=2020.1 in /home/hemanth/anaconda3/envs/t/lib/python3.9/site-packages (from pandas->ai4bharat-transliteration) (2025.2)\n",
            "Requirement already satisfied: tzdata>=2022.7 in /home/hemanth/anaconda3/envs/t/lib/python3.9/site-packages (from pandas->ai4bharat-transliteration) (2025.2)\n",
            "Requirement already satisfied: six>=1.5 in /home/hemanth/anaconda3/envs/t/lib/python3.9/site-packages (from python-dateutil>=2.8.2->pandas->ai4bharat-transliteration) (1.17.0)\n",
            "Requirement already satisfied: progressbar2 in /home/hemanth/anaconda3/envs/t/lib/python3.9/site-packages (from pydload->ai4bharat-transliteration) (4.5.0)\n",
            "Requirement already satisfied: requests in /home/hemanth/anaconda3/envs/t/lib/python3.9/site-packages (from pydload->ai4bharat-transliteration) (2.32.5)\n",
            "Requirement already satisfied: python-utils>=3.8.1 in /home/hemanth/anaconda3/envs/t/lib/python3.9/site-packages (from progressbar2->pydload->ai4bharat-transliteration) (3.9.1)\n",
            "Requirement already satisfied: typing_extensions>3.10.0.2 in /home/hemanth/anaconda3/envs/t/lib/python3.9/site-packages (from python-utils>=3.8.1->progressbar2->pydload->ai4bharat-transliteration) (4.14.1)\n",
            "Requirement already satisfied: charset_normalizer<4,>=2 in /home/hemanth/anaconda3/envs/t/lib/python3.9/site-packages (from requests->pydload->ai4bharat-transliteration) (3.4.3)\n",
            "Requirement already satisfied: idna<4,>=2.5 in /home/hemanth/anaconda3/envs/t/lib/python3.9/site-packages (from requests->pydload->ai4bharat-transliteration) (3.10)\n",
            "Requirement already satisfied: urllib3<3,>=1.21.1 in /home/hemanth/anaconda3/envs/t/lib/python3.9/site-packages (from requests->pydload->ai4bharat-transliteration) (2.5.0)\n",
            "Requirement already satisfied: certifi>=2017.4.17 in /home/hemanth/anaconda3/envs/t/lib/python3.9/site-packages (from requests->pydload->ai4bharat-transliteration) (2025.8.3)\n",
            "Requirement already satisfied: joblib in /home/hemanth/anaconda3/envs/t/lib/python3.9/site-packages (from sacremoses->ai4bharat-transliteration) (1.5.2)\n",
            "Requirement already satisfied: sphinx>=1.2.0 in /home/hemanth/anaconda3/envs/t/lib/python3.9/site-packages (from sphinx-argparse->indic-nlp-library->ai4bharat-transliteration) (7.4.7)\n",
            "Requirement already satisfied: sphinxcontrib-applehelp in /home/hemanth/anaconda3/envs/t/lib/python3.9/site-packages (from sphinx>=1.2.0->sphinx-argparse->indic-nlp-library->ai4bharat-transliteration) (2.0.0)\n",
            "Requirement already satisfied: sphinxcontrib-devhelp in /home/hemanth/anaconda3/envs/t/lib/python3.9/site-packages (from sphinx>=1.2.0->sphinx-argparse->indic-nlp-library->ai4bharat-transliteration) (2.0.0)\n",
            "Requirement already satisfied: sphinxcontrib-jsmath in /home/hemanth/anaconda3/envs/t/lib/python3.9/site-packages (from sphinx>=1.2.0->sphinx-argparse->indic-nlp-library->ai4bharat-transliteration) (1.0.1)\n",
            "Requirement already satisfied: sphinxcontrib-htmlhelp>=2.0.0 in /home/hemanth/anaconda3/envs/t/lib/python3.9/site-packages (from sphinx>=1.2.0->sphinx-argparse->indic-nlp-library->ai4bharat-transliteration) (2.1.0)\n",
            "Requirement already satisfied: sphinxcontrib-serializinghtml>=1.1.9 in /home/hemanth/anaconda3/envs/t/lib/python3.9/site-packages (from sphinx>=1.2.0->sphinx-argparse->indic-nlp-library->ai4bharat-transliteration) (2.0.0)\n",
            "Requirement already satisfied: sphinxcontrib-qthelp in /home/hemanth/anaconda3/envs/t/lib/python3.9/site-packages (from sphinx>=1.2.0->sphinx-argparse->indic-nlp-library->ai4bharat-transliteration) (2.0.0)\n",
            "Requirement already satisfied: Pygments>=2.17 in /home/hemanth/anaconda3/envs/t/lib/python3.9/site-packages (from sphinx>=1.2.0->sphinx-argparse->indic-nlp-library->ai4bharat-transliteration) (2.19.2)\n",
            "Requirement already satisfied: docutils<0.22,>=0.20 in /home/hemanth/anaconda3/envs/t/lib/python3.9/site-packages (from sphinx>=1.2.0->sphinx-argparse->indic-nlp-library->ai4bharat-transliteration) (0.21.2)\n",
            "Requirement already satisfied: snowballstemmer>=2.2 in /home/hemanth/anaconda3/envs/t/lib/python3.9/site-packages (from sphinx>=1.2.0->sphinx-argparse->indic-nlp-library->ai4bharat-transliteration) (3.0.1)\n",
            "Requirement already satisfied: babel>=2.13 in /home/hemanth/anaconda3/envs/t/lib/python3.9/site-packages (from sphinx>=1.2.0->sphinx-argparse->indic-nlp-library->ai4bharat-transliteration) (2.17.0)\n",
            "Requirement already satisfied: alabaster~=0.7.14 in /home/hemanth/anaconda3/envs/t/lib/python3.9/site-packages (from sphinx>=1.2.0->sphinx-argparse->indic-nlp-library->ai4bharat-transliteration) (0.7.16)\n",
            "Requirement already satisfied: imagesize>=1.3 in /home/hemanth/anaconda3/envs/t/lib/python3.9/site-packages (from sphinx>=1.2.0->sphinx-argparse->indic-nlp-library->ai4bharat-transliteration) (1.4.1)\n",
            "Requirement already satisfied: tomli>=2 in /home/hemanth/anaconda3/envs/t/lib/python3.9/site-packages (from sphinx>=1.2.0->sphinx-argparse->indic-nlp-library->ai4bharat-transliteration) (2.2.1)\n",
            "Requirement already satisfied: sphinxcontrib-jquery<5,>=4 in /home/hemanth/anaconda3/envs/t/lib/python3.9/site-packages (from sphinx-rtd-theme->indic-nlp-library->ai4bharat-transliteration) (4.1)\n",
            "Requirement already satisfied: protobuf>=3.20 in /home/hemanth/anaconda3/envs/t/lib/python3.9/site-packages (from tensorboardX->ai4bharat-transliteration) (6.32.0)\n",
            "Requirement already satisfied: filelock in /home/hemanth/anaconda3/envs/t/lib/python3.9/site-packages (from torch->fairseq->ai4bharat-transliteration) (3.19.1)\n",
            "Requirement already satisfied: sympy>=1.13.3 in /home/hemanth/anaconda3/envs/t/lib/python3.9/site-packages (from torch->fairseq->ai4bharat-transliteration) (1.14.0)\n",
            "Requirement already satisfied: networkx in /home/hemanth/anaconda3/envs/t/lib/python3.9/site-packages (from torch->fairseq->ai4bharat-transliteration) (3.2.1)\n",
            "Requirement already satisfied: fsspec in /home/hemanth/anaconda3/envs/t/lib/python3.9/site-packages (from torch->fairseq->ai4bharat-transliteration) (2025.7.0)\n",
            "Requirement already satisfied: nvidia-cuda-nvrtc-cu12==12.8.93 in /home/hemanth/anaconda3/envs/t/lib/python3.9/site-packages (from torch->fairseq->ai4bharat-transliteration) (12.8.93)\n",
            "Requirement already satisfied: nvidia-cuda-runtime-cu12==12.8.90 in /home/hemanth/anaconda3/envs/t/lib/python3.9/site-packages (from torch->fairseq->ai4bharat-transliteration) (12.8.90)\n",
            "Requirement already satisfied: nvidia-cuda-cupti-cu12==12.8.90 in /home/hemanth/anaconda3/envs/t/lib/python3.9/site-packages (from torch->fairseq->ai4bharat-transliteration) (12.8.90)\n",
            "Requirement already satisfied: nvidia-cudnn-cu12==9.10.2.21 in /home/hemanth/anaconda3/envs/t/lib/python3.9/site-packages (from torch->fairseq->ai4bharat-transliteration) (9.10.2.21)\n",
            "Requirement already satisfied: nvidia-cublas-cu12==12.8.4.1 in /home/hemanth/anaconda3/envs/t/lib/python3.9/site-packages (from torch->fairseq->ai4bharat-transliteration) (12.8.4.1)\n",
            "Requirement already satisfied: nvidia-cufft-cu12==11.3.3.83 in /home/hemanth/anaconda3/envs/t/lib/python3.9/site-packages (from torch->fairseq->ai4bharat-transliteration) (11.3.3.83)\n",
            "Requirement already satisfied: nvidia-curand-cu12==10.3.9.90 in /home/hemanth/anaconda3/envs/t/lib/python3.9/site-packages (from torch->fairseq->ai4bharat-transliteration) (10.3.9.90)\n",
            "Requirement already satisfied: nvidia-cusolver-cu12==11.7.3.90 in /home/hemanth/anaconda3/envs/t/lib/python3.9/site-packages (from torch->fairseq->ai4bharat-transliteration) (11.7.3.90)\n",
            "Requirement already satisfied: nvidia-cusparse-cu12==12.5.8.93 in /home/hemanth/anaconda3/envs/t/lib/python3.9/site-packages (from torch->fairseq->ai4bharat-transliteration) (12.5.8.93)\n",
            "Requirement already satisfied: nvidia-cusparselt-cu12==0.7.1 in /home/hemanth/anaconda3/envs/t/lib/python3.9/site-packages (from torch->fairseq->ai4bharat-transliteration) (0.7.1)\n",
            "Requirement already satisfied: nvidia-nccl-cu12==2.27.3 in /home/hemanth/anaconda3/envs/t/lib/python3.9/site-packages (from torch->fairseq->ai4bharat-transliteration) (2.27.3)\n",
            "Requirement already satisfied: nvidia-nvtx-cu12==12.8.90 in /home/hemanth/anaconda3/envs/t/lib/python3.9/site-packages (from torch->fairseq->ai4bharat-transliteration) (12.8.90)\n",
            "Requirement already satisfied: nvidia-nvjitlink-cu12==12.8.93 in /home/hemanth/anaconda3/envs/t/lib/python3.9/site-packages (from torch->fairseq->ai4bharat-transliteration) (12.8.93)\n",
            "Requirement already satisfied: nvidia-cufile-cu12==1.13.1.3 in /home/hemanth/anaconda3/envs/t/lib/python3.9/site-packages (from torch->fairseq->ai4bharat-transliteration) (1.13.1.3)\n",
            "Requirement already satisfied: triton==3.4.0 in /home/hemanth/anaconda3/envs/t/lib/python3.9/site-packages (from torch->fairseq->ai4bharat-transliteration) (3.4.0)\n",
            "Requirement already satisfied: setuptools>=40.8.0 in /home/hemanth/anaconda3/envs/t/lib/python3.9/site-packages (from triton==3.4.0->torch->fairseq->ai4bharat-transliteration) (78.1.1)\n",
            "Requirement already satisfied: mpmath<1.4,>=1.1.0 in /home/hemanth/anaconda3/envs/t/lib/python3.9/site-packages (from sympy>=1.13.3->torch->fairseq->ai4bharat-transliteration) (1.3.0)\n"
          ]
        }
      ],
      "source": [
        "# installing library\n",
        "# for thorough documentation: https://pypi.org/project/ai4bharat-transliteration/\n",
        "!pip install ai4bharat-transliteration --upgrade --no-cache-dir"
      ]
    },
    {
      "cell_type": "code",
      "execution_count": 8,
      "metadata": {},
      "outputs": [
        {
          "name": "stdout",
          "output_type": "stream",
          "text": [
            "Requirement already satisfied: fairseq in /home/hemanth/anaconda3/envs/t/lib/python3.9/site-packages (0.10.0)\n",
            "Collecting fairseq\n",
            "  Using cached fairseq-0.12.2.tar.gz (9.6 MB)\n",
            "  Installing build dependencies ... \u001b[?25ldone\n",
            "\u001b[?25h  Getting requirements to build wheel ... \u001b[?25ldone\n",
            "\u001b[?25h  Installing backend dependencies ... \u001b[?25ldone\n",
            "\u001b[?25h  Preparing metadata (pyproject.toml) ... \u001b[?25ldone\n",
            "\u001b[?25hRequirement already satisfied: cffi in /home/hemanth/anaconda3/envs/t/lib/python3.9/site-packages (from fairseq) (1.17.1)\n",
            "Requirement already satisfied: cython in /home/hemanth/anaconda3/envs/t/lib/python3.9/site-packages (from fairseq) (3.1.3)\n",
            "Collecting hydra-core<1.1,>=1.0.7 (from fairseq)\n",
            "  Using cached hydra_core-1.0.7-py3-none-any.whl.metadata (3.7 kB)\n",
            "Collecting omegaconf<2.1 (from fairseq)\n",
            "  Using cached omegaconf-2.0.6-py3-none-any.whl.metadata (3.0 kB)\n",
            "\u001b[33mWARNING: Ignoring version 2.0.6 of omegaconf since it has invalid metadata:\n",
            "Requested omegaconf<2.1 from https://files.pythonhosted.org/packages/d0/eb/9d63ce09dd8aa85767c65668d5414958ea29648a0eec80a4a7d311ec2684/omegaconf-2.0.6-py3-none-any.whl (from fairseq) has invalid metadata: .* suffix can only be used with `==` or `!=` operators\n",
            "    PyYAML (>=5.1.*)\n",
            "            ~~~~~~^\n",
            "Please use pip<24.1 if you need to use this version.\u001b[0m\u001b[33m\n",
            "\u001b[0m  Using cached omegaconf-2.0.5-py3-none-any.whl.metadata (3.0 kB)\n",
            "\u001b[33mWARNING: Ignoring version 2.0.5 of omegaconf since it has invalid metadata:\n",
            "Requested omegaconf<2.1 from https://files.pythonhosted.org/packages/e5/f6/043b6d255dd6fbf2025110cea35b87f4c5100a181681d8eab496269f0d5b/omegaconf-2.0.5-py3-none-any.whl (from fairseq) has invalid metadata: .* suffix can only be used with `==` or `!=` operators\n",
            "    PyYAML (>=5.1.*)\n",
            "            ~~~~~~^\n",
            "Please use pip<24.1 if you need to use this version.\u001b[0m\u001b[33m\n",
            "\u001b[0m  Using cached omegaconf-2.0.4-py3-none-any.whl.metadata (3.0 kB)\n",
            "\u001b[33mWARNING: Ignoring version 2.0.4 of omegaconf since it has invalid metadata:\n",
            "Requested omegaconf<2.1 from https://files.pythonhosted.org/packages/92/b1/4f3023143436f12c98bab53f0b3db617bd18a7d223627d5030e13a7b4fc2/omegaconf-2.0.4-py3-none-any.whl (from fairseq) has invalid metadata: .* suffix can only be used with `==` or `!=` operators\n",
            "    PyYAML (>=5.1.*)\n",
            "            ~~~~~~^\n",
            "Please use pip<24.1 if you need to use this version.\u001b[0m\u001b[33m\n",
            "\u001b[0m  Using cached omegaconf-2.0.3-py3-none-any.whl.metadata (3.0 kB)\n",
            "\u001b[33mWARNING: Ignoring version 2.0.3 of omegaconf since it has invalid metadata:\n",
            "Requested omegaconf<2.1 from https://files.pythonhosted.org/packages/29/08/a88210c2c1aa0a3f65f05d8a6c98939ccb84b6fb982aa6567dec4e6773f9/omegaconf-2.0.3-py3-none-any.whl (from fairseq) has invalid metadata: .* suffix can only be used with `==` or `!=` operators\n",
            "    PyYAML (>=5.1.*)\n",
            "            ~~~~~~^\n",
            "Please use pip<24.1 if you need to use this version.\u001b[0m\u001b[33m\n",
            "\u001b[0m  Using cached omegaconf-2.0.2-py3-none-any.whl.metadata (3.0 kB)\n",
            "\u001b[33mWARNING: Ignoring version 2.0.2 of omegaconf since it has invalid metadata:\n",
            "Requested omegaconf<2.1 from https://files.pythonhosted.org/packages/72/fe/f8d162aa059fb4f327fd75144dd69aa7e8acbb6d8d37013e4638c8490e0b/omegaconf-2.0.2-py3-none-any.whl (from fairseq) has invalid metadata: .* suffix can only be used with `==` or `!=` operators\n",
            "    PyYAML (>=5.1.*)\n",
            "            ~~~~~~^\n",
            "Please use pip<24.1 if you need to use this version.\u001b[0m\u001b[33m\n",
            "\u001b[0m  Using cached omegaconf-2.0.1-py3-none-any.whl.metadata (3.0 kB)\n",
            "\u001b[33mWARNING: Ignoring version 2.0.1 of omegaconf since it has invalid metadata:\n",
            "Requested omegaconf<2.1 from https://files.pythonhosted.org/packages/86/ec/605805e60abdb025b06664d107335031bb8ebdc52e0a90bdbad6a7130279/omegaconf-2.0.1-py3-none-any.whl (from fairseq) has invalid metadata: .* suffix can only be used with `==` or `!=` operators\n",
            "    PyYAML (>=5.1.*)\n",
            "            ~~~~~~^\n",
            "Please use pip<24.1 if you need to use this version.\u001b[0m\u001b[33m\n",
            "\u001b[0m  Using cached omegaconf-2.0.0-py3-none-any.whl.metadata (3.5 kB)\n",
            "Requirement already satisfied: numpy in /home/hemanth/anaconda3/envs/t/lib/python3.9/site-packages (from fairseq) (2.0.2)\n",
            "Requirement already satisfied: regex in /home/hemanth/anaconda3/envs/t/lib/python3.9/site-packages (from fairseq) (2025.7.34)\n",
            "Requirement already satisfied: sacrebleu>=1.4.12 in /home/hemanth/anaconda3/envs/t/lib/python3.9/site-packages (from fairseq) (2.5.1)\n",
            "Requirement already satisfied: torch in /home/hemanth/anaconda3/envs/t/lib/python3.9/site-packages (from fairseq) (2.8.0)\n",
            "Requirement already satisfied: tqdm in /home/hemanth/anaconda3/envs/t/lib/python3.9/site-packages (from fairseq) (4.67.1)\n",
            "Collecting bitarray (from fairseq)\n",
            "  Using cached bitarray-3.7.0-cp39-cp39-manylinux_2_17_x86_64.manylinux2014_x86_64.whl.metadata (35 kB)\n",
            "Collecting torchaudio>=0.8.0 (from fairseq)\n",
            "  Using cached torchaudio-2.8.0-cp39-cp39-manylinux_2_28_x86_64.whl.metadata (7.2 kB)\n",
            "Collecting omegaconf<2.1 (from fairseq)\n",
            "  Using cached omegaconf-2.0.6-py3-none-any.whl.metadata (3.0 kB)\n",
            "\u001b[33mWARNING: Ignoring version 2.0.6 of omegaconf since it has invalid metadata:\n",
            "Requested omegaconf<2.1 from https://files.pythonhosted.org/packages/d0/eb/9d63ce09dd8aa85767c65668d5414958ea29648a0eec80a4a7d311ec2684/omegaconf-2.0.6-py3-none-any.whl (from fairseq) has invalid metadata: .* suffix can only be used with `==` or `!=` operators\n",
            "    PyYAML (>=5.1.*)\n",
            "            ~~~~~~^\n",
            "Please use pip<24.1 if you need to use this version.\u001b[0m\u001b[33m\n",
            "\u001b[0m  Using cached omegaconf-2.0.5-py3-none-any.whl.metadata (3.0 kB)\n",
            "\u001b[33mWARNING: Ignoring version 2.0.5 of omegaconf since it has invalid metadata:\n",
            "Requested omegaconf<2.1 from https://files.pythonhosted.org/packages/e5/f6/043b6d255dd6fbf2025110cea35b87f4c5100a181681d8eab496269f0d5b/omegaconf-2.0.5-py3-none-any.whl (from fairseq) has invalid metadata: .* suffix can only be used with `==` or `!=` operators\n",
            "    PyYAML (>=5.1.*)\n",
            "            ~~~~~~^\n",
            "Please use pip<24.1 if you need to use this version.\u001b[0m\u001b[33m\n",
            "\u001b[0mINFO: pip is looking at multiple versions of hydra-core to determine which version is compatible with other requirements. This could take a while.\n",
            "Collecting fairseq\n",
            "  Using cached fairseq-0.12.1.tar.gz (9.6 MB)\n",
            "  Installing build dependencies ... \u001b[?25ldone\n",
            "\u001b[?25h  Getting requirements to build wheel ... \u001b[?25lerror\n",
            "  \u001b[1;31merror\u001b[0m: \u001b[1msubprocess-exited-with-error\u001b[0m\n",
            "  \n",
            "  \u001b[31m×\u001b[0m \u001b[32mGetting requirements to build wheel\u001b[0m did not run successfully.\n",
            "  \u001b[31m│\u001b[0m exit code: \u001b[1;36m1\u001b[0m\n",
            "  \u001b[31m╰─>\u001b[0m \u001b[31m[16 lines of output]\u001b[0m\n",
            "  \u001b[31m   \u001b[0m Traceback (most recent call last):\n",
            "  \u001b[31m   \u001b[0m   File \"/home/hemanth/anaconda3/envs/t/lib/python3.9/site-packages/pip/_vendor/pyproject_hooks/_in_process/_in_process.py\", line 389, in <module>\n",
            "  \u001b[31m   \u001b[0m     main()\n",
            "  \u001b[31m   \u001b[0m   File \"/home/hemanth/anaconda3/envs/t/lib/python3.9/site-packages/pip/_vendor/pyproject_hooks/_in_process/_in_process.py\", line 373, in main\n",
            "  \u001b[31m   \u001b[0m     json_out[\"return_val\"] = hook(**hook_input[\"kwargs\"])\n",
            "  \u001b[31m   \u001b[0m   File \"/home/hemanth/anaconda3/envs/t/lib/python3.9/site-packages/pip/_vendor/pyproject_hooks/_in_process/_in_process.py\", line 143, in get_requires_for_build_wheel\n",
            "  \u001b[31m   \u001b[0m     return hook(config_settings)\n",
            "  \u001b[31m   \u001b[0m   File \"/tmp/pip-build-env-up8argge/overlay/lib/python3.9/site-packages/setuptools/build_meta.py\", line 331, in get_requires_for_build_wheel\n",
            "  \u001b[31m   \u001b[0m     return self._get_build_requires(config_settings, requirements=[])\n",
            "  \u001b[31m   \u001b[0m   File \"/tmp/pip-build-env-up8argge/overlay/lib/python3.9/site-packages/setuptools/build_meta.py\", line 301, in _get_build_requires\n",
            "  \u001b[31m   \u001b[0m     self.run_setup()\n",
            "  \u001b[31m   \u001b[0m   File \"/tmp/pip-build-env-up8argge/overlay/lib/python3.9/site-packages/setuptools/build_meta.py\", line 317, in run_setup\n",
            "  \u001b[31m   \u001b[0m     exec(code, locals())\n",
            "  \u001b[31m   \u001b[0m   File \"<string>\", line 27, in <module>\n",
            "  \u001b[31m   \u001b[0m   File \"<string>\", line 18, in write_version_py\n",
            "  \u001b[31m   \u001b[0m FileNotFoundError: [Errno 2] No such file or directory: 'fairseq/version.txt'\n",
            "  \u001b[31m   \u001b[0m \u001b[31m[end of output]\u001b[0m\n",
            "  \n",
            "  \u001b[1;35mnote\u001b[0m: This error originates from a subprocess, and is likely not a problem with pip.\n",
            "\u001b[?25h\u001b[1;31merror\u001b[0m: \u001b[1msubprocess-exited-with-error\u001b[0m\n",
            "\n",
            "\u001b[31m×\u001b[0m \u001b[32mGetting requirements to build wheel\u001b[0m did not run successfully.\n",
            "\u001b[31m│\u001b[0m exit code: \u001b[1;36m1\u001b[0m\n",
            "\u001b[31m╰─>\u001b[0m See above for output.\n",
            "\n",
            "\u001b[1;35mnote\u001b[0m: This error originates from a subprocess, and is likely not a problem with pip.\n"
          ]
        }
      ],
      "source": [
        "!pip install fairseq --upgrade"
      ]
    },
    {
      "cell_type": "markdown",
      "metadata": {
        "id": "Tp_6RHAJjBrJ"
      },
      "source": [
        "## Import the module for transliteration engine"
      ]
    },
    {
      "cell_type": "code",
      "execution_count": 1,
      "metadata": {
        "id": "hlqnZ8RrjI-7"
      },
      "outputs": [],
      "source": [
        "# model support the following languages : [as, bn, brx, gom, gu, hi, kn, ks, mai, ml, mni, mr, ne, or, pa, sa, sd, si, ta, te, ur]\n",
        "# importing ai4bharat transliteration module\n",
        "from ai4bharat.transliteration import XlitEngine"
      ]
    },
    {
      "cell_type": "markdown",
      "metadata": {
        "id": "dnYV1YX-iy4A"
      },
      "source": [
        "## Using word Transliteration"
      ]
    },
    {
      "cell_type": "markdown",
      "metadata": {
        "id": "uklMFr9zjmh4"
      },
      "source": [
        "- beam_width increases beam search size, resulting in improved accuracy but increases time/compute. (Default: 4)\n",
        "- topk returns only specified number of top results. (Default: 4)\n",
        "- rescore returns the reranked suggestions after using a dictionary. (Default: True)"
      ]
    },
    {
      "cell_type": "markdown",
      "metadata": {
        "id": "4blljLKI1fy7"
      },
      "source": [
        "#### En-Indic conversion"
      ]
    },
    {
      "cell_type": "code",
      "execution_count": 2,
      "metadata": {
        "colab": {
          "base_uri": "https://localhost:8080/",
          "height": 373
        },
        "id": "gLz7B4pxhPq4",
        "outputId": "74dbdde6-00b2-4e00-b556-9df41b8b2f6b"
      },
      "outputs": [
        {
          "name": "stdout",
          "output_type": "stream",
          "text": [
            "Initializing Multilingual model for transliteration\n"
          ]
        },
        {
          "ename": "ImportError",
          "evalue": "cannot import name 'convert_namespace_to_omegaconf' from 'fairseq.dataclass.utils' (/home/hemanth/anaconda3/envs/t/lib/python3.9/site-packages/fairseq/dataclass/utils.py)",
          "output_type": "error",
          "traceback": [
            "\u001b[0;31m---------------------------------------------------------------------------\u001b[0m",
            "\u001b[0;31mImportError\u001b[0m                               Traceback (most recent call last)",
            "Cell \u001b[0;32mIn[2], line 2\u001b[0m\n\u001b[1;32m      1\u001b[0m \u001b[38;5;66;03m# intializing the en-indic multilingual model and dictionaries (if rerank option is True)\u001b[39;00m\n\u001b[0;32m----> 2\u001b[0m e \u001b[38;5;241m=\u001b[39m \u001b[43mXlitEngine\u001b[49m\u001b[43m(\u001b[49m\u001b[38;5;124;43m\"\u001b[39;49m\u001b[38;5;124;43mhi\u001b[39;49m\u001b[38;5;124;43m\"\u001b[39;49m\u001b[43m,\u001b[49m\u001b[43m \u001b[49m\u001b[43mbeam_width\u001b[49m\u001b[38;5;241;43m=\u001b[39;49m\u001b[38;5;241;43m4\u001b[39;49m\u001b[43m,\u001b[49m\u001b[43m \u001b[49m\u001b[43mrescore\u001b[49m\u001b[38;5;241;43m=\u001b[39;49m\u001b[38;5;28;43;01mTrue\u001b[39;49;00m\u001b[43m,\u001b[49m\u001b[43m \u001b[49m\u001b[43msrc_script_type\u001b[49m\u001b[43m \u001b[49m\u001b[38;5;241;43m=\u001b[39;49m\u001b[43m \u001b[49m\u001b[38;5;124;43m\"\u001b[39;49m\u001b[38;5;124;43men\u001b[39;49m\u001b[38;5;124;43m\"\u001b[39;49m\u001b[43m)\u001b[49m\n\u001b[1;32m      4\u001b[0m \u001b[38;5;66;03m# transliterate word\u001b[39;00m\n\u001b[1;32m      5\u001b[0m out \u001b[38;5;241m=\u001b[39m e\u001b[38;5;241m.\u001b[39mtranslit_word(\u001b[38;5;124m\"\u001b[39m\u001b[38;5;124mone\u001b[39m\u001b[38;5;124m\"\u001b[39m, topk\u001b[38;5;241m=\u001b[39m\u001b[38;5;241m1\u001b[39m)\n",
            "File \u001b[0;32m~/anaconda3/envs/t/lib/python3.9/site-packages/ai4bharat/transliteration/xlit_src.py:9\u001b[0m, in \u001b[0;36mXlitEngine\u001b[0;34m(lang2use, beam_width, rescore, model_type, src_script_type)\u001b[0m\n\u001b[1;32m      7\u001b[0m \u001b[38;5;28;01mif\u001b[39;00m src_script_type \u001b[38;5;129;01min\u001b[39;00m {\u001b[38;5;124m\"\u001b[39m\u001b[38;5;124mroman\u001b[39m\u001b[38;5;124m\"\u001b[39m, \u001b[38;5;124m\"\u001b[39m\u001b[38;5;124mlatin\u001b[39m\u001b[38;5;124m\"\u001b[39m, \u001b[38;5;124m\"\u001b[39m\u001b[38;5;124men\u001b[39m\u001b[38;5;124m\"\u001b[39m}:\n\u001b[1;32m      8\u001b[0m     \u001b[38;5;28;01mfrom\u001b[39;00m\u001b[38;5;250m \u001b[39m\u001b[38;5;21;01m.\u001b[39;00m\u001b[38;5;21;01mtransformer\u001b[39;00m\u001b[38;5;250m \u001b[39m\u001b[38;5;28;01mimport\u001b[39;00m XlitEngineTransformer_En2Indic\n\u001b[0;32m----> 9\u001b[0m     \u001b[38;5;28;01mreturn\u001b[39;00m \u001b[43mXlitEngineTransformer_En2Indic\u001b[49m\u001b[43m(\u001b[49m\u001b[43mlang2use\u001b[49m\u001b[43m,\u001b[49m\u001b[43m \u001b[49m\u001b[43mbeam_width\u001b[49m\u001b[38;5;241;43m=\u001b[39;49m\u001b[43mbeam_width\u001b[49m\u001b[43m,\u001b[49m\u001b[43m \u001b[49m\u001b[43mrescore\u001b[49m\u001b[38;5;241;43m=\u001b[39;49m\u001b[43mrescore\u001b[49m\u001b[43m)\u001b[49m\n\u001b[1;32m     10\u001b[0m \u001b[38;5;28;01melif\u001b[39;00m src_script_type \u001b[38;5;241m==\u001b[39m \u001b[38;5;124m\"\u001b[39m\u001b[38;5;124mindic\u001b[39m\u001b[38;5;124m\"\u001b[39m:\n\u001b[1;32m     11\u001b[0m     \u001b[38;5;28;01mfrom\u001b[39;00m\u001b[38;5;250m \u001b[39m\u001b[38;5;21;01m.\u001b[39;00m\u001b[38;5;21;01mtransformer\u001b[39;00m\u001b[38;5;250m \u001b[39m\u001b[38;5;28;01mimport\u001b[39;00m XlitEngineTransformer_Indic2En\n",
            "File \u001b[0;32m~/anaconda3/envs/t/lib/python3.9/site-packages/ai4bharat/transliteration/transformer/en2indic.py:78\u001b[0m, in \u001b[0;36mXlitEngineTransformer_En2Indic.__init__\u001b[0;34m(self, lang2use, beam_width, rescore)\u001b[0m\n\u001b[1;32m     75\u001b[0m \u001b[38;5;28;01melse\u001b[39;00m:\n\u001b[1;32m     76\u001b[0m     dicts_folder \u001b[38;5;241m=\u001b[39m \u001b[38;5;28;01mNone\u001b[39;00m\n\u001b[0;32m---> 78\u001b[0m \u001b[38;5;28;43msuper\u001b[39;49m\u001b[43m(\u001b[49m\u001b[43m)\u001b[49m\u001b[38;5;241;43m.\u001b[39;49m\u001b[38;5;21;43m__init__\u001b[39;49m\u001b[43m(\u001b[49m\u001b[43mmodels_path\u001b[49m\u001b[43m,\u001b[49m\u001b[43m \u001b[49m\u001b[43mbeam_width\u001b[49m\u001b[38;5;241;43m=\u001b[39;49m\u001b[43mbeam_width\u001b[49m\u001b[43m,\u001b[49m\u001b[43m \u001b[49m\u001b[43mrescore\u001b[49m\u001b[38;5;241;43m=\u001b[39;49m\u001b[43mrescore\u001b[49m\u001b[43m)\u001b[49m\n",
            "File \u001b[0;32m~/anaconda3/envs/t/lib/python3.9/site-packages/ai4bharat/transliteration/transformer/base_engine.py:45\u001b[0m, in \u001b[0;36mBaseEngineTransformer.__init__\u001b[0;34m(self, models_path, beam_width, rescore)\u001b[0m\n\u001b[1;32m     42\u001b[0m     lang_pairs_csv \u001b[38;5;241m=\u001b[39m \u001b[38;5;124m'\u001b[39m\u001b[38;5;124m,\u001b[39m\u001b[38;5;124m'\u001b[39m\u001b[38;5;241m.\u001b[39mjoin([\u001b[38;5;124m\"\u001b[39m\u001b[38;5;124men-\u001b[39m\u001b[38;5;124m\"\u001b[39m\u001b[38;5;241m+\u001b[39mlang \u001b[38;5;28;01mfor\u001b[39;00m lang \u001b[38;5;129;01min\u001b[39;00m \u001b[38;5;28mself\u001b[39m\u001b[38;5;241m.\u001b[39mall_supported_langs])\n\u001b[1;32m     44\u001b[0m \u001b[38;5;66;03m# initialize the model\u001b[39;00m\n\u001b[0;32m---> 45\u001b[0m \u001b[38;5;28;01mfrom\u001b[39;00m\u001b[38;5;250m \u001b[39m\u001b[38;5;21;01m.\u001b[39;00m\u001b[38;5;21;01mcustom_interactive\u001b[39;00m\u001b[38;5;250m \u001b[39m\u001b[38;5;28;01mimport\u001b[39;00m Transliterator\n\u001b[1;32m     46\u001b[0m \u001b[38;5;28mself\u001b[39m\u001b[38;5;241m.\u001b[39mtransliterator \u001b[38;5;241m=\u001b[39m Transliterator(\n\u001b[1;32m     47\u001b[0m     os\u001b[38;5;241m.\u001b[39mpath\u001b[38;5;241m.\u001b[39mjoin(models_path, CHARS_FOLDER),\n\u001b[1;32m     48\u001b[0m     os\u001b[38;5;241m.\u001b[39mpath\u001b[38;5;241m.\u001b[39mjoin(models_path, MODEL_FILE),\n\u001b[0;32m   (...)\u001b[0m\n\u001b[1;32m     51\u001b[0m     beam \u001b[38;5;241m=\u001b[39m beam_width, batch_size \u001b[38;5;241m=\u001b[39m \u001b[38;5;241m32\u001b[39m,\n\u001b[1;32m     52\u001b[0m )\n\u001b[1;32m     54\u001b[0m \u001b[38;5;28mself\u001b[39m\u001b[38;5;241m.\u001b[39mbeam_width \u001b[38;5;241m=\u001b[39m beam_width\n",
            "File \u001b[0;32m~/anaconda3/envs/t/lib/python3.9/site-packages/ai4bharat/transliteration/transformer/custom_interactive.py:25\u001b[0m\n\u001b[1;32m     23\u001b[0m \u001b[38;5;28;01mfrom\u001b[39;00m\u001b[38;5;250m \u001b[39m\u001b[38;5;21;01mfairseq\u001b[39;00m\u001b[38;5;250m \u001b[39m\u001b[38;5;28;01mimport\u001b[39;00m checkpoint_utils, distributed_utils, options, tasks, utils\n\u001b[1;32m     24\u001b[0m \u001b[38;5;66;03m# from fairseq.dataclass.configs import FairseqConfig\u001b[39;00m\n\u001b[0;32m---> 25\u001b[0m \u001b[38;5;28;01mfrom\u001b[39;00m\u001b[38;5;250m \u001b[39m\u001b[38;5;21;01mfairseq\u001b[39;00m\u001b[38;5;21;01m.\u001b[39;00m\u001b[38;5;21;01mdataclass\u001b[39;00m\u001b[38;5;21;01m.\u001b[39;00m\u001b[38;5;21;01mutils\u001b[39;00m\u001b[38;5;250m \u001b[39m\u001b[38;5;28;01mimport\u001b[39;00m convert_namespace_to_omegaconf\n\u001b[1;32m     26\u001b[0m \u001b[38;5;28;01mfrom\u001b[39;00m\u001b[38;5;250m \u001b[39m\u001b[38;5;21;01mfairseq\u001b[39;00m\u001b[38;5;21;01m.\u001b[39;00m\u001b[38;5;21;01mtoken_generation_constraints\u001b[39;00m\u001b[38;5;250m \u001b[39m\u001b[38;5;28;01mimport\u001b[39;00m pack_constraints, unpack_constraints\n\u001b[1;32m     27\u001b[0m \u001b[38;5;28;01mfrom\u001b[39;00m\u001b[38;5;250m \u001b[39m\u001b[38;5;21;01mfairseq_cli\u001b[39;00m\u001b[38;5;21;01m.\u001b[39;00m\u001b[38;5;21;01mgenerate\u001b[39;00m\u001b[38;5;250m \u001b[39m\u001b[38;5;28;01mimport\u001b[39;00m get_symbols_to_strip_from_output\n",
            "\u001b[0;31mImportError\u001b[0m: cannot import name 'convert_namespace_to_omegaconf' from 'fairseq.dataclass.utils' (/home/hemanth/anaconda3/envs/t/lib/python3.9/site-packages/fairseq/dataclass/utils.py)"
          ]
        }
      ],
      "source": [
        "# intializing the en-indic multilingual model and dictionaries (if rerank option is True)\n",
        "e = XlitEngine(\"hi\", beam_width=4, rescore=True, src_script_type = \"en\")\n",
        "\n",
        "# transliterate word\n",
        "out = e.translit_word(\"one\", topk=1)\n",
        "print(out)"
      ]
    },
    {
      "cell_type": "markdown",
      "metadata": {
        "id": "LXv2pg2S1lMz"
      },
      "source": [
        "#### Indic-En conversion"
      ]
    },
    {
      "cell_type": "code",
      "execution_count": null,
      "metadata": {
        "colab": {
          "base_uri": "https://localhost:8080/"
        },
        "id": "gEsUEQOP1aHk",
        "outputId": "0e68efd6-2713-4324-91e1-bb901f4208a2"
      },
      "outputs": [
        {
          "name": "stdout",
          "output_type": "stream",
          "text": [
            "Downloading Multilingual model for transliteration\n"
          ]
        },
        {
          "name": "stderr",
          "output_type": "stream",
          "text": [
            "MB100% (119.0 of 119.0) |################| Elapsed Time: 0:00:01 Time:  0:00:01\n"
          ]
        },
        {
          "name": "stdout",
          "output_type": "stream",
          "text": [
            "Succefully Downloaded to: /usr/local/lib/python3.8/dist-packages/ai4bharat/transliteration/transformer/models/indic2en/v1.0/model.zip\n",
            "Models downloaded to: /usr/local/lib/python3.8/dist-packages/ai4bharat/transliteration/transformer/models/indic2en/v1.0\n",
            "NOTE: When uninstalling this library, REMEMBER to delete the models manually\n",
            "Initializing Multilingual model for transliteration\n",
            "['bhaarat', 'bharat', 'bharath', 'bhart']\n",
            "['gujaraat', 'gujarat', 'goojarat', 'gujraat']\n"
          ]
        }
      ],
      "source": [
        "# intializing the indic-en multilingual model and dictionaries (if rerank option is True)\n",
        "e = XlitEngine( beam_width=4, rescore=False, src_script_type = \"indic\")\n",
        "\n",
        "# transliterate Hindi word\n",
        "out = e.translit_word(\"भारत\", 'hi', topk=5)\n",
        "print(out)\n",
        "\n",
        "# transliterate Gujarati word\n",
        "out = e.translit_word(\"ગુજરાત\", 'gu', topk=5)\n",
        "print(out)"
      ]
    },
    {
      "cell_type": "markdown",
      "metadata": {
        "id": "DHfnnSY-i42Z"
      },
      "source": [
        "## word Transliteration without rescoring"
      ]
    },
    {
      "cell_type": "markdown",
      "metadata": {
        "id": "XbdQL-Xd4CF1"
      },
      "source": [
        "#### En-Indic conversion"
      ]
    },
    {
      "cell_type": "code",
      "execution_count": null,
      "metadata": {
        "colab": {
          "base_uri": "https://localhost:8080/"
        },
        "id": "Wlw5eJZWi1U8",
        "outputId": "c38d0987-9dc4-40c4-d47c-c670beea3a7a"
      },
      "outputs": [
        {
          "name": "stdout",
          "output_type": "stream",
          "text": [
            "Initializing Multilingual model for transliteration\n",
            "{'hi': ['ओने', 'ओन', 'ओनी', 'ओणे', 'ओना']}\n"
          ]
        }
      ],
      "source": [
        "e = XlitEngine(\"hi\", beam_width=10, rescore=False, src_script_type = \"en\")\n",
        "out = e.translit_word(\"one\", topk=5)\n",
        "print(out)"
      ]
    },
    {
      "cell_type": "markdown",
      "metadata": {
        "id": "C1a5Byux4AR-"
      },
      "source": [
        "#### Indic-En conversion"
      ]
    },
    {
      "cell_type": "code",
      "execution_count": null,
      "metadata": {
        "colab": {
          "base_uri": "https://localhost:8080/"
        },
        "id": "bAr6kgre3594",
        "outputId": "f6cd25b4-6187-48a1-d931-f9413d98bc77"
      },
      "outputs": [
        {
          "name": "stdout",
          "output_type": "stream",
          "text": [
            "Initializing Multilingual model for transliteration\n",
            "['bhaarat', 'bharat', 'bharath', 'bharata', 'bhaarut']\n"
          ]
        }
      ],
      "source": [
        "# intializing the indic-en multilingual model and dictionaries (if rerank option is True)\n",
        "e = XlitEngine( beam_width=10, rescore=False, src_script_type = \"indic\")\n",
        "\n",
        "# transliterate Hindi word\n",
        "out = e.translit_word(\"भारत\", 'hi', topk=5)\n",
        "print(out)"
      ]
    },
    {
      "cell_type": "markdown",
      "metadata": {
        "id": "2CsQUh-9i37u"
      },
      "source": [
        "## Using Sentence Transliteration"
      ]
    },
    {
      "cell_type": "markdown",
      "metadata": {
        "id": "5JFysasHkKHF"
      },
      "source": [
        "- Only single top most prediction is returned for each word in sentence."
      ]
    },
    {
      "cell_type": "markdown",
      "metadata": {
        "id": "QxCdp1Y34O58"
      },
      "source": [
        "#### En-Indic conversion"
      ]
    },
    {
      "cell_type": "code",
      "execution_count": null,
      "metadata": {
        "colab": {
          "base_uri": "https://localhost:8080/"
        },
        "id": "GCCpEKTQj2Yy",
        "outputId": "7fe67e9b-6e50-4609-d8a0-7f125c9c671f"
      },
      "outputs": [
        {
          "name": "stdout",
          "output_type": "stream",
          "text": [
            "Initializing Multilingual model for transliteration\n"
          ]
        },
        {
          "name": "stderr",
          "output_type": "stream",
          "text": [
            "Loading dicts into RAM: 100%|██████████| 2/2 [00:14<00:00,  7.25s/it]\n"
          ]
        },
        {
          "name": "stdout",
          "output_type": "stream",
          "text": [
            "{'mr': '१०२ वणक्कम उलगम', 'te': '౧౦౨ వణక్కం ఉలగం'}\n"
          ]
        }
      ],
      "source": [
        "e = XlitEngine([\"te\", 'mr'], beam_width=10, src_script_type = \"en\")\n",
        "out = e.translit_sentence(\"102 VAnakkam ulagam\")\n",
        "print(out)"
      ]
    },
    {
      "cell_type": "markdown",
      "metadata": {
        "id": "t7Zrj3lE4Pdo"
      },
      "source": [
        "#### Indic-En conversion"
      ]
    },
    {
      "cell_type": "code",
      "execution_count": null,
      "metadata": {
        "colab": {
          "base_uri": "https://localhost:8080/"
        },
        "id": "kAhZCHqs4Fhn",
        "outputId": "4bc7bd07-b427-4b20-c54e-25c3de1b218a"
      },
      "outputs": [
        {
          "name": "stdout",
          "output_type": "stream",
          "text": [
            "Initializing Multilingual model for transliteration\n"
          ]
        },
        {
          "name": "stderr",
          "output_type": "stream",
          "text": [
            "Loading dicts into RAM: 100%|██████████| 1/1 [00:00<00:00, 11.80it/s]\n"
          ]
        },
        {
          "name": "stdout",
          "output_type": "stream",
          "text": [
            "vanakkam ulagam\n"
          ]
        }
      ],
      "source": [
        "e = XlitEngine( beam_width=10, src_script_type = \"indic\")\n",
        "out = e.translit_sentence(\"వణక్కం ఉలగం\", 'te')\n",
        "print(out)"
      ]
    },
    {
      "cell_type": "markdown",
      "metadata": {
        "id": "SAbxWwFji7TS"
      },
      "source": [
        "## Using Multiple language Transliteration"
      ]
    },
    {
      "cell_type": "code",
      "execution_count": null,
      "metadata": {
        "colab": {
          "base_uri": "https://localhost:8080/"
        },
        "id": "J0_CL02Lj284",
        "outputId": "545b76aa-f90c-4dfb-9302-17f1e57f84ac"
      },
      "outputs": [
        {
          "name": "stdout",
          "output_type": "stream",
          "text": [
            "Initializing Multilingual model for transliteration\n"
          ]
        },
        {
          "name": "stderr",
          "output_type": "stream",
          "text": [
            "Loading dicts into RAM: 100%|██████████| 2/2 [01:11<00:00, 35.53s/it]\n"
          ]
        },
        {
          "name": "stdout",
          "output_type": "stream",
          "text": [
            "{'ml': ['അമ്മ', 'അമ്മാ', 'ആമ്മ'], 'ta': ['அம்மா', 'ஆம்மா', 'அம்ம']}\n",
            "{'ml': 'ഹെല്ലോ വർൾഡ്', 'ta': 'ஹெல்லோ வர்ல்ட்'}\n",
            "{'ml': ['അമ്മ', 'അമ്മാ', 'ആമ്മ', 'എഎമ്എ', 'അംമ'], 'ta': ['அம்மா', 'ஆம்மா', 'அம்ம', 'அம்மை', 'அமா']}\n"
          ]
        }
      ],
      "source": [
        "# Pass list of languages for multile language transliteration\n",
        "e = XlitEngine([\"ta\", \"ml\"], beam_width=6, src_script_type = \"en\")\n",
        "# leave empty or use \"all\" to load all available languages\n",
        "# e = XlitEngine(\"all)\n",
        "\n",
        "out = e.translit_word(\"amma\", topk=3)\n",
        "print(out)\n",
        "\n",
        "out = e.translit_sentence(\"hello world\")\n",
        "print(out)\n",
        "\n",
        "## Specify language name to get only specific language result\n",
        "out = e.translit_word(\"amma\", topk=5)\n",
        "print(out)"
      ]
    },
    {
      "cell_type": "markdown",
      "metadata": {
        "id": "DypOGQxXi9SJ"
      },
      "source": [
        "## Transliteration for all available languages"
      ]
    },
    {
      "cell_type": "code",
      "execution_count": null,
      "metadata": {
        "id": "7NqUeCKKj3bY"
      },
      "outputs": [],
      "source": [
        "# loading all the language dictionaries would require 8-10 gb of space in RAM\n",
        "e = XlitEngine(beam_width=10, src_script_type = \"en\")\n",
        "out = e.translit_sentence(\"Hello World\")\n",
        "print(out)"
      ]
    }
  ],
  "metadata": {
    "colab": {
      "provenance": []
    },
    "kernelspec": {
      "display_name": "t",
      "language": "python",
      "name": "python3"
    },
    "language_info": {
      "codemirror_mode": {
        "name": "ipython",
        "version": 3
      },
      "file_extension": ".py",
      "mimetype": "text/x-python",
      "name": "python",
      "nbconvert_exporter": "python",
      "pygments_lexer": "ipython3",
      "version": "3.9.23"
    }
  },
  "nbformat": 4,
  "nbformat_minor": 0
}
