{
 "cells": [
  {
   "cell_type": "code",
   "execution_count": 1,
   "id": "a53130da",
   "metadata": {},
   "outputs": [
    {
     "data": {
      "text/plain": [
       "True"
      ]
     },
     "execution_count": 1,
     "metadata": {},
     "output_type": "execute_result"
    }
   ],
   "source": [
    "from sarvamai import SarvamAI\n",
    "from openai import OpenAI\n",
    "\n",
    "import os\n",
    "from dotenv import load_dotenv\n",
    "load_dotenv()"
   ]
  },
  {
   "cell_type": "code",
   "execution_count": 2,
   "id": "6774f284",
   "metadata": {},
   "outputs": [],
   "source": [
    "client = SarvamAI(\n",
    "    api_subscription_key=os.environ[\"SARVAM_API_KEY\"]\n",
    ")"
   ]
  },
  {
   "cell_type": "code",
   "execution_count": 10,
   "id": "73e6b738",
   "metadata": {},
   "outputs": [],
   "source": [
    "response = client.text.transliterate(\n",
    "    input=\"వైద్యపరంగా ఉసిరికలో ఔషధగుణాలెక్కువంట , అందుకే రకరకాల ఉత్పత్తుల్లో ఉసిరి కాయలను వాడతారు\",\n",
    "    source_language_code=\"te-IN\",\n",
    "    target_language_code=\"en-IN\",\n",
    "    spoken_form=True\n",
    ")\n"
   ]
  },
  {
   "cell_type": "code",
   "execution_count": 11,
   "id": "3f91e32e",
   "metadata": {},
   "outputs": [
    {
     "name": "stdout",
     "output_type": "stream",
     "text": [
      "request_id='20250828_17ec94f8-8951-4c91-94d4-c9877de4853f' transliterated_text='\"Vaidyavashyakam\" ru si ri kalo aushadhagunalekkuvamtu, anduke rakarakaala utpannallo usiri kaayalanu vaadataaru' source_language_code='te-IN'\n"
     ]
    }
   ],
   "source": [
    "print(response)"
   ]
  },
  {
   "cell_type": "code",
   "execution_count": 2,
   "id": "c52e1cfd",
   "metadata": {},
   "outputs": [],
   "source": [
    "client = OpenAI(\n",
    "    # This is the default and can be omitted\n",
    "    api_key=os.environ.get(\"OPENAI_API_KEY\"),\n",
    ")"
   ]
  },
  {
   "cell_type": "code",
   "execution_count": 13,
   "id": "e957bca6",
   "metadata": {},
   "outputs": [
    {
     "name": "stdout",
     "output_type": "stream",
     "text": [
      "karentu billulni kuda suluvuga android phone unte gpay dvara cheyyochu\n"
     ]
    }
   ],
   "source": [
    "response = client.responses.create(\n",
    "    model=\"gpt-4.1\",\n",
    "    instructions=\"You are a Telugu to English transliteration expert. Transliterate the given Telugu text to English using only standard Latin characters without diacritics or special symbols. Maintain the phonetic pronunciation as closely as possible. Only return the transliterated text, no explanations.\",\n",
    "    input=\"కరెంటు బిల్లుల్ని కూడా సులువుగా ఆండ్రాయిడ్ ఫోన్ ఉంటే జీపే ద్వారా చెయ్యొచ్చు\",\n",
    "    prompt_cache_key=\"transliterate_telugu_to_english\"\n",
    ")\n",
    "\n",
    "print(response.output_text)"
   ]
  },
  {
   "cell_type": "code",
   "execution_count": null,
   "id": "416534b9",
   "metadata": {},
   "outputs": [],
   "source": []
  }
 ],
 "metadata": {
  "kernelspec": {
   "display_name": "tf",
   "language": "python",
   "name": "python3"
  },
  "language_info": {
   "codemirror_mode": {
    "name": "ipython",
    "version": 3
   },
   "file_extension": ".py",
   "mimetype": "text/x-python",
   "name": "python",
   "nbconvert_exporter": "python",
   "pygments_lexer": "ipython3",
   "version": "3.11.11"
  }
 },
 "nbformat": 4,
 "nbformat_minor": 5
}
